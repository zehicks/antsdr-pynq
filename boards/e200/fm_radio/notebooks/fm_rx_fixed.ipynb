{
 "cells": [
  {
   "cell_type": "code",
   "execution_count": null,
   "metadata": {},
   "outputs": [],
   "source": [
    "import sys\n",
    "import numpy as np\n",
    "import scipy.signal as sig\n",
    "import matplotlib.pyplot as plt\n",
    "from fpbinary import FpBinary, FpBinaryComplex, RoundingEnum, OverflowEnum\n",
    "%matplotlib widget"
   ]
  },
  {
   "cell_type": "code",
   "execution_count": null,
   "metadata": {},
   "outputs": [],
   "source": [
    "sys.path.append(\"../../utils\")\n",
    "from fi_fir import fi_fir"
   ]
  },
  {
   "cell_type": "code",
   "execution_count": null,
   "metadata": {},
   "outputs": [],
   "source": [
    "def plot_fft(x, Fs, Fs_units='', n=None):\n",
    "    if n is None:\n",
    "        n = len(x)\n",
    "    else:\n",
    "        n = int(n)\n",
    "\n",
    "    if Fs_units == '':\n",
    "        Fs_scale = 1\n",
    "    elif Fs_units == 'k':\n",
    "        Fs_scale = 1/1e3\n",
    "    elif Fs_units == 'M':\n",
    "        Fs_scale = 1/1e6\n",
    "    else:\n",
    "        raise(ValueError(\"Unsupported Fs Unit\"))\n",
    "\n",
    "    X = np.fft.fft(x[0:n])\n",
    "    f = np.fft.fftfreq(X.size, d=1/Fs)\n",
    "\n",
    "    fig = plt.figure(clear=True)\n",
    "    plt.plot(np.fft.fftshift(f*Fs_scale), 20*np.log10(np.abs(np.fft.fftshift(X))))\n",
    "    plt.xlabel(f'Frequency ({Fs_units}Hz)')\n",
    "    plt.ylabel('Magnitude (dB)')\n",
    "    plt.grid()"
   ]
  },
  {
   "cell_type": "code",
   "execution_count": null,
   "metadata": {},
   "outputs": [],
   "source": [
    "# Load input signal\n",
    "Fs = 1.92e6 # Hz\n",
    "filename = \"/home/hicksze1/antsdr-pynq/boards/e200/fm_radio/sim/iq_files/fm_1920kHz.fc32\"\n",
    "# filename = \"/home/hicksze1/antsdr-pynq/boards/e200/fm_radio/sim/iq_files/tb_chirp.ic16\"\n",
    "IQ_interleaved = np.fromfile(filename, dtype=np.float32)\n",
    "IQ = IQ_interleaved[::2] + 1j*IQ_interleaved[1::2]\n",
    "IQ = IQ[:4*1920000]\n",
    "del IQ_interleaved"
   ]
  },
  {
   "cell_type": "code",
   "execution_count": null,
   "metadata": {},
   "outputs": [],
   "source": [
    "# Design decimation filters\n",
    "\n",
    "# Stage 1\n",
    "M1 = 5 # decimation factor\n",
    "Fs_1 = Fs / M1 # output sample rate\n",
    "N1 = 21 # filter order\n",
    "delta_w = 1 / 100 # transition width\n",
    "wp = (1/M1) - delta_w # passband freq\n",
    "ws = (1/M1) + delta_w # stopband freq\n",
    "h_decim_1 = sig.remez(N1, [0, wp, ws, 0.5], [1, 0], fs=1)\n",
    "H_decim_1 = sig.dlti(h_decim_1, [1], dt = 1/Fs)\n",
    "\n",
    "# Stage 2\n",
    "M2 = 4 # decimation factor\n",
    "Fs_2 = Fs_1 / M2 # output sample rate\n",
    "N2 = 41 # filter order\n",
    "delta_w = 1 / 100 # transition width\n",
    "wp = (1/M2) - delta_w # passband freq\n",
    "ws = (1/M2) + delta_w # stopband freq\n",
    "h_decim_2 = sig.remez(N2, [0, wp, ws, 0.5], [1, 0], fs=1)\n",
    "H_decim_2 = sig.dlti(h_decim_2, [1], dt = 1/Fs_1)\n",
    "\n",
    "# Stage 3\n",
    "M3 = 2 # decimation factor\n",
    "Fs_3 = Fs_2 / M3 # output sample rate\n",
    "N3 = 41 # filter order\n",
    "h_decim_3 = sig.remez(N3, [0, 16e3, 20e3, Fs_2/2], [1, 0], fs=Fs_2)\n",
    "H_decim_3 = sig.dlti(h_decim_3, [1], dt = 1/Fs_2)"
   ]
  },
  {
   "cell_type": "code",
   "execution_count": null,
   "metadata": {},
   "outputs": [],
   "source": [
    "IQ_decim, _ = fi_fir(IQ, h_decim_1, M=M1)"
   ]
  },
  {
   "cell_type": "code",
   "execution_count": null,
   "metadata": {},
   "outputs": [],
   "source": [
    "plot_fft(IQ_decim, Fs_1)"
   ]
  },
  {
   "cell_type": "code",
   "execution_count": null,
   "metadata": {},
   "outputs": [],
   "source": [
    "# Instantaneous frequency estimation\n",
    "h_diff = [1, 0, -1]\n",
    "IQ_diff, _ = fi_fir(IQ_decim, h_diff)"
   ]
  },
  {
   "cell_type": "code",
   "execution_count": null,
   "metadata": {},
   "outputs": [],
   "source": [
    "I_decim = np.array([val.real for val in IQ_decim])\n",
    "Q_decim = np.array([val.imag for val in IQ_decim])\n",
    "I_diff = np.array([val.real for val in IQ_diff])\n",
    "Q_diff = np.array([val.imag for val in IQ_diff])"
   ]
  },
  {
   "cell_type": "code",
   "execution_count": null,
   "metadata": {},
   "outputs": [],
   "source": [
    "prod1 = I_decim * Q_diff[:-2]\n",
    "prod2 = Q_decim * I_diff[:-2]"
   ]
  },
  {
   "cell_type": "code",
   "execution_count": null,
   "metadata": {},
   "outputs": [],
   "source": [
    "freq = (prod1 - prod2)\n",
    "freq = np.array([val.resize((1, 31), round_mode=RoundingEnum.near_even) for val in freq])"
   ]
  },
  {
   "cell_type": "code",
   "execution_count": null,
   "metadata": {},
   "outputs": [],
   "source": [
    "freq_decim, _ = fi_fir(freq, h_decim_2, x_q=(1, 31), y_q=(1, 31), M=M2, real=True)\n",
    "audio, _ = fi_fir(freq_decim, h_decim_3, x_q=(1, 31), y_q=(1, 31), M=M3, real=True)"
   ]
  },
  {
   "cell_type": "code",
   "execution_count": null,
   "metadata": {},
   "outputs": [],
   "source": [
    "tau = 75e-6\n",
    "\n",
    "wc = 1 / tau\n",
    "wca = 2 * Fs_3 * np.tan(wc / (2*Fs_3))\n",
    "k = -wca / (2*Fs_3)\n",
    "z1 = -1\n",
    "p1 = (1 + k) / (1 - k)\n",
    "b0 = -k / (1 - k)\n",
    "b = [b0, b0*-z1]\n",
    "a = [1, -p1]"
   ]
  },
  {
   "cell_type": "code",
   "execution_count": null,
   "metadata": {},
   "outputs": [],
   "source": [
    "audio_float = np.array([float(val) for val in audio])\n",
    "deemph = sig.lfilter(b, a, audio_float)\n",
    "deemph_dc_blocked = deemph - np.mean(deemph)"
   ]
  },
  {
   "cell_type": "code",
   "execution_count": null,
   "metadata": {},
   "outputs": [],
   "source": [
    "from IPython.display import Audio\n",
    "\n",
    "Audio(deemph_dc_blocked, rate=Fs_3)"
   ]
  }
 ],
 "metadata": {
  "kernelspec": {
   "display_name": "Python 3",
   "language": "python",
   "name": "python3"
  },
  "language_info": {
   "codemirror_mode": {
    "name": "ipython",
    "version": 3
   },
   "file_extension": ".py",
   "mimetype": "text/x-python",
   "name": "python",
   "nbconvert_exporter": "python",
   "pygments_lexer": "ipython3",
   "version": "3.8.10"
  }
 },
 "nbformat": 4,
 "nbformat_minor": 2
}
