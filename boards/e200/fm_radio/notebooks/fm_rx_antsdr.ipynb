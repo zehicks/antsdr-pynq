{
 "cells": [
  {
   "cell_type": "code",
   "execution_count": null,
   "metadata": {},
   "outputs": [],
   "source": [
    "import numpy as np\n",
    "import scipy.signal as sig\n",
    "import matplotlib.pyplot as plt\n",
    "import adi\n",
    "import zmq\n",
    "from pynq import Overlay\n",
    "from pynq import GPIO"
   ]
  },
  {
   "cell_type": "code",
   "execution_count": null,
   "metadata": {},
   "outputs": [],
   "source": [
    "ol = Overlay(\"/home/xilinx/jupyter_notebooks/fm_radio/fm_radio.bit\")\n",
    "ol.download(dtbo=\"/home/xilinx/jupyter_notebooks/base/pl.dtbo\")\n",
    "!systemctl restart iiod"
   ]
  },
  {
   "cell_type": "code",
   "execution_count": null,
   "metadata": {},
   "outputs": [],
   "source": [
    "reset = GPIO(GPIO.get_gpio_pin(32), 'out')\n",
    "reset.write(1)"
   ]
  },
  {
   "cell_type": "code",
   "execution_count": null,
   "metadata": {},
   "outputs": [],
   "source": [
    "fc = 89.7e6 # Hz\n",
    "fs = 1.92e6 # Hz\n",
    "\n",
    "sdr = adi.ad9361(uri=\"local:\")\n",
    "sdr.sample_rate = int(fs)\n",
    "\n",
    "# Config Tx\n",
    "sdr.tx_rf_bandwidth = int(fs)\n",
    "sdr.tx_lo = int(fc)\n",
    "sdr.rx_hardwaregain_chan0 = -90\n",
    "sdr.tx_enabled_channels = [0]\n",
    "sdr.tx_cyclix_buffer = True\n",
    "\n",
    "# Create Tx waveform\n",
    "N_tx = 10000\n",
    "t = np.arange(N_tx) / fs\n",
    "f = 100e3 # Hz\n",
    "s = (2**13)*np.exp(1j*2*np.pi*f*t)\n",
    "\n",
    "# Config Rx\n",
    "N_rx = 10000\n",
    "sdr.rx_lo = int(fc)\n",
    "sdr.rx_rf_bandwidth = int(fs)\n",
    "sdr.rx_buffer_size = N_rx\n",
    "sdr.gain_control_mode_chan0 = 'slow_attack'\n",
    "sdr.rx_enabled_channels = [0]\n",
    "# sdr.rx_hardwaregain_chan0 = -10.0 # dB, increase to increase the receive gain, but be careful not to saturate the ADC"
   ]
  },
  {
   "cell_type": "code",
   "execution_count": null,
   "metadata": {},
   "outputs": [],
   "source": [
    "sdr.tx(s)"
   ]
  },
  {
   "cell_type": "code",
   "execution_count": null,
   "metadata": {},
   "outputs": [],
   "source": [
    "reset.write(0)"
   ]
  },
  {
   "cell_type": "code",
   "execution_count": null,
   "metadata": {},
   "outputs": [],
   "source": [
    "def zmq_pub(ip, port):\n",
    "    context = zmq.Context()\n",
    "    socket = context.socket(zmq.PUB)\n",
    "    socket.bind(f\"tcp://{ip}:{port}\")\n",
    "    return socket"
   ]
  },
  {
   "cell_type": "code",
   "execution_count": null,
   "metadata": {},
   "outputs": [],
   "source": [
    "# Clear buffer just to be safe\n",
    "for i in range (0, 10):\n",
    "    raw_data = sdr.rx()"
   ]
  },
  {
   "cell_type": "code",
   "execution_count": null,
   "metadata": {},
   "outputs": [],
   "source": [
    "socket = zmq_pub(ip='192.168.2.11', port=5050)\n",
    "\n",
    "for i in range(10):\n",
    "    r = sdr.rx()\n",
    "    audio = np.real(r) + (np.imag(r) << 16)\n",
    "    socket.send(audio.astype(np.float32))"
   ]
  },
  {
   "cell_type": "code",
   "execution_count": null,
   "metadata": {},
   "outputs": [],
   "source": [
    "socket.close()"
   ]
  }
 ],
 "metadata": {
  "kernelspec": {
   "display_name": "Python 3",
   "language": "python",
   "name": "python3"
  },
  "language_info": {
   "codemirror_mode": {
    "name": "ipython",
    "version": 3
   },
   "file_extension": ".py",
   "mimetype": "text/x-python",
   "name": "python",
   "nbconvert_exporter": "python",
   "pygments_lexer": "ipython3",
   "version": "3.8.10"
  }
 },
 "nbformat": 4,
 "nbformat_minor": 2
}
