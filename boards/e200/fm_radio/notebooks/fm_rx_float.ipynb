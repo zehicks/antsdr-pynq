{
 "cells": [
  {
   "cell_type": "code",
   "execution_count": null,
   "metadata": {},
   "outputs": [],
   "source": [
    "import numpy as np\n",
    "import scipy.signal as sig\n",
    "import matplotlib.pyplot as plt\n",
    "%matplotlib widget"
   ]
  },
  {
   "cell_type": "markdown",
   "metadata": {},
   "source": [
    "First, define plotting helper functions."
   ]
  },
  {
   "cell_type": "code",
   "execution_count": null,
   "metadata": {},
   "outputs": [],
   "source": [
    "def plot_time(x, Fs):\n",
    "    Ts = 1/Fs\n",
    "    t = t = 0 + np.arange(0, x.size) * Ts\n",
    "    \n",
    "    fig = plt.figure(clear=True)\n",
    "    plt.plot(t, x)\n",
    "    plt.xlabel('Time (s)')\n",
    "    plt.ylabel('Amplitude')\n",
    "    plt.grid()\n",
    "\n",
    "def plot_fft(x, Fs, Fs_units='', n=None):\n",
    "    if n is None:\n",
    "        n = len(x)\n",
    "    else:\n",
    "        n = int(n)\n",
    "\n",
    "    if Fs_units == '':\n",
    "        Fs_scale = 1\n",
    "    elif Fs_units == 'k':\n",
    "        Fs_scale = 1/1e3\n",
    "    elif Fs_units == 'M':\n",
    "        Fs_scale = 1/1e6\n",
    "    else:\n",
    "        raise(ValueError(\"Unsupported Fs Unit\"))\n",
    "\n",
    "    X = np.fft.fft(x[0:n])\n",
    "    f = np.fft.fftfreq(X.size, d=1/Fs)\n",
    "\n",
    "    fig = plt.figure(clear=True)\n",
    "    plt.plot(np.fft.fftshift(f*Fs_scale), 20*np.log10(np.abs(np.fft.fftshift(X))))\n",
    "    plt.xlabel(f'Frequency ({Fs_units}Hz)')\n",
    "    plt.ylabel('Magnitude (dB)')\n",
    "    plt.grid()\n",
    "\n",
    "def plot_psd(x, Fs, Fs_units=''):\n",
    "    if Fs_units == '':\n",
    "        Fs_scale = 1\n",
    "    elif Fs_units == 'k':\n",
    "        Fs_scale = 1/1e3\n",
    "    elif Fs_units == 'M':\n",
    "        Fs_scale = 1/1e6\n",
    "    else:\n",
    "        raise(ValueError(\"Unsupported Fs Unit\"))\n",
    "\n",
    "    f, Pxx = sig.welch(x, fs=Fs, return_onesided=False)\n",
    "\n",
    "    fig = plt.figure(clear=True)\n",
    "    plt.semilogy(f*Fs_scale, Pxx)\n",
    "    plt.grid()    \n",
    "\n",
    "def plot_filter(b, a, Fs, Fs_units=''):\n",
    "    w, h = sig.freqz(b, a, fs=Fs)\n",
    "    \n",
    "    if Fs_units == '':\n",
    "        Fs_scale = 1\n",
    "    elif Fs_units == 'k':\n",
    "        Fs_scale = 1/1e3\n",
    "    elif Fs_units == 'M':\n",
    "        Fs_scale = 1/1e6\n",
    "    else:\n",
    "        raise(ValueError(\"Unsupported Fs Unit\"))\n",
    "\n",
    "    fig = plt.figure(clear=True)\n",
    "    plt.plot(w*Fs_scale, 20*np.log10(np.abs(h)))\n",
    "    plt.xlabel(f'Frequency ({Fs_units}Hz)')\n",
    "    plt.ylabel('Magnitude (dB)')\n",
    "    plt.title('Filter Magnitude Response')\n",
    "    plt.grid()"
   ]
  },
  {
   "cell_type": "markdown",
   "metadata": {},
   "source": [
    "Load the test IQ file as a numpy array.  The IQ file contains samples from the Baltimore-area FM radio station WTMD, which is centered at 89.7 MHz."
   ]
  },
  {
   "cell_type": "code",
   "execution_count": null,
   "metadata": {},
   "outputs": [],
   "source": [
    "Fs = 1.92e6 # Hz\n",
    "filename = \"/home/hicksze1/antsdr-pynq/boards/e200/fm_radio/sim/iq_files/fm_1920kHz.fc32\"\n",
    "IQ_interleaved = np.fromfile(filename, dtype=np.float32)\n",
    "IQ = IQ_interleaved[::2] + 1j*IQ_interleaved[1::2]"
   ]
  },
  {
   "cell_type": "markdown",
   "metadata": {},
   "source": [
    "Plot the input spectrum.  The plot shows the radio station centered at the radio's tuned frequency, which is shown at 0 Hz."
   ]
  },
  {
   "cell_type": "code",
   "execution_count": null,
   "metadata": {},
   "outputs": [],
   "source": [
    "plot_fft(IQ, Fs, Fs_units='M', n=500e3)\n",
    "plt.title(\"Input Signal Spectrum\");"
   ]
  },
  {
   "cell_type": "markdown",
   "metadata": {},
   "source": [
    "The first stage of the reception process is to use decimating low-pass filters to reduce the sample rate of the signal.  This first stage decimates the signal by a factor of 5, and the second stage decimates by 4.  The decimation filters are designed using the Parks-McClellan algorithm."
   ]
  },
  {
   "cell_type": "code",
   "execution_count": null,
   "metadata": {},
   "outputs": [],
   "source": [
    "M1 = 5 # decimation factor\n",
    "Fs_1 = Fs / M1 # output sample rate\n",
    "\n",
    "N1 = 21 # filter order\n",
    "delta_w = 1 / 100 # transition width\n",
    "wp = (1/M1) - delta_w # passband freq\n",
    "ws = (1/M1) + delta_w # stopband freq\n",
    "\n",
    "h_decim_1 = sig.remez(N1, [0, wp, ws, 0.5], [1, 0], fs=1)\n",
    "H_decim_1 = sig.dlti(h_decim_1, [1], dt = 1/Fs)\n",
    "\n",
    "plot_filter(h_decim_1, [1], Fs, Fs_units='M')\n",
    "plt.title(\"Decimating FIR Filter 1, M1 = 5\");"
   ]
  },
  {
   "cell_type": "markdown",
   "metadata": {},
   "source": [
    "The input signal is filtered and decimated."
   ]
  },
  {
   "cell_type": "code",
   "execution_count": null,
   "metadata": {},
   "outputs": [],
   "source": [
    "IQ_decim = sig.decimate(IQ, M1, ftype=H_decim_1, zero_phase=False)\n",
    "plot_fft(IQ_decim, Fs_1, Fs_units='k')\n",
    "plt.title(\"Input Signal Spectrum, Decimated by M1 = 5\");"
   ]
  },
  {
   "cell_type": "markdown",
   "metadata": {},
   "source": [
    "Next, the signal is FM-demodulated and the resulting spectrum is plotted."
   ]
  },
  {
   "cell_type": "code",
   "execution_count": null,
   "metadata": {},
   "outputs": [],
   "source": [
    "def fm_demod(x):\n",
    "    h_diff = [1, 0, -1]\n",
    "    x_diff = sig.lfilter(h_diff, 1, x)\n",
    "    demod = np.real(x) * np.imag(x_diff) - np.imag(x) * np.real(x_diff)\n",
    "    return demod"
   ]
  },
  {
   "cell_type": "code",
   "execution_count": null,
   "metadata": {},
   "outputs": [],
   "source": [
    "freq = fm_demod(IQ_decim)\n",
    "plot_fft(freq, Fs_1, Fs_units='k')\n",
    "plt.title(\"Frequency Demodulated Signal\");"
   ]
  },
  {
   "cell_type": "markdown",
   "metadata": {},
   "source": [
    "Two final decimation stages are used to reduce the sample rate to the rate required by the audio card."
   ]
  },
  {
   "cell_type": "code",
   "execution_count": null,
   "metadata": {},
   "outputs": [],
   "source": [
    "M2 = 4 # decimation factor\n",
    "Fs_2 = Fs_1 / M2 # output sample rate\n",
    "\n",
    "N2 = 41 # filter order\n",
    "delta_w = 1 / 100 # transition width\n",
    "wp = (1/M2) - delta_w # passband freq\n",
    "ws = (1/M2) + delta_w # stopband freq\n",
    "\n",
    "h_decim_2 = sig.remez(N2, [0, wp, ws, 0.5], [1, 0], fs=1)\n",
    "H_decim_2 = sig.dlti(h_decim_2, [1], dt = 1/Fs_1)\n",
    "\n",
    "plot_filter(h_decim_2, [1], Fs_1, Fs_units='k')\n",
    "plt.title(\"Decimating FIR Filter 2, M2 = 4\");"
   ]
  },
  {
   "cell_type": "code",
   "execution_count": null,
   "metadata": {},
   "outputs": [],
   "source": [
    "M3 = 2 # decimation factor\n",
    "Fs_3 = Fs_2 / M3 # output sample rate\n",
    "\n",
    "N3 = 41 # filter order\n",
    "\n",
    "h_decim_3 = sig.remez(N3, [0, 16e3, 20e3, Fs_2/2], [1, 0], fs=Fs_2)\n",
    "H_decim_3 = sig.dlti(h_decim_3, [1], dt = 1/Fs_2)\n",
    "\n",
    "plot_filter(h_decim_3, [1], Fs_2, Fs_units='k')\n",
    "plt.title(\"Decimating FIR Filter 3, M3 = 2\");"
   ]
  },
  {
   "cell_type": "code",
   "execution_count": null,
   "metadata": {},
   "outputs": [],
   "source": [
    "freq_decim = sig.decimate(freq, M2, ftype=H_decim_2, zero_phase=False)\n",
    "audio = sig.decimate(freq_decim, M3, ftype=H_decim_3, zero_phase=False)\n",
    "plot_fft(audio, Fs_3)\n",
    "plt.title(\"Audio Spectrum\");"
   ]
  },
  {
   "cell_type": "markdown",
   "metadata": {},
   "source": [
    "Finally, an FM deemphasis filter is applied to correct the audio spectrum.  Broadcast FM radio signals are pre-distorted by the transmitting station, so the distortion must be reversed at the receiver."
   ]
  },
  {
   "cell_type": "code",
   "execution_count": null,
   "metadata": {},
   "outputs": [],
   "source": [
    "tau = 75e-6\n",
    "\n",
    "wc = 1 / tau\n",
    "wca = 2 * Fs_3 * np.tan(wc / (2*Fs_3))\n",
    "k = -wca / (2*Fs_3)\n",
    "z1 = -1\n",
    "p1 = (1 + k) / (1 - k)\n",
    "b0 = -k / (1 - k)\n",
    "b = [b0, b0*-z1]\n",
    "a = [1, -p1]\n",
    "\n",
    "plot_filter(b, a, Fs=Fs_3, Fs_units='k')\n",
    "plt.title(\"Broadcast FM Radio Deemphasis Filter\");"
   ]
  },
  {
   "cell_type": "code",
   "execution_count": null,
   "metadata": {},
   "outputs": [],
   "source": [
    "deemph = sig.lfilter(b, a, audio)"
   ]
  },
  {
   "cell_type": "markdown",
   "metadata": {},
   "source": [
    "Finally, the demodulated audio can be played."
   ]
  },
  {
   "cell_type": "code",
   "execution_count": null,
   "metadata": {},
   "outputs": [],
   "source": [
    "from IPython.display import Audio\n",
    "\n",
    "Audio(deemph, rate=Fs_3)"
   ]
  },
  {
   "cell_type": "markdown",
   "metadata": {},
   "source": [
    "The FM demodulation process is combined into a single function below."
   ]
  },
  {
   "cell_type": "code",
   "execution_count": null,
   "metadata": {},
   "outputs": [],
   "source": [
    "def broadcast_fm_rx(IQ, debug=False):\n",
    "    IQ_decim = sig.decimate(IQ, M1, ftype=H_decim_1, zero_phase=False)\n",
    "    freq = fm_demod(IQ_decim)\n",
    "    freq_decim = sig.decimate(freq, M2, ftype=H_decim_2, zero_phase=False)\n",
    "    audio = sig.decimate(freq_decim, M3, ftype=H_decim_3, zero_phase=False)\n",
    "    deemph = sig.lfilter(b, a, audio)\n",
    "    if debug:\n",
    "        plot_time(np.real(IQ_decim_1), Fs_1)\n",
    "        plot_time(np.real(IQ_decim_2), Fs_2)\n",
    "        plot_time(freq, Fs_2)\n",
    "        plot_time(audio, Fs_3)\n",
    "    return deemph"
   ]
  },
  {
   "cell_type": "code",
   "execution_count": null,
   "metadata": {},
   "outputs": [],
   "source": [
    "Fs = 1.92e6 # Hz\n",
    "filename = \"/home/hicksze1/antsdr-pynq/boards/e200/fm_radio/sim/iq_files/fm_1920kHz.fc32\"\n",
    "IQ_interleaved = np.fromfile(filename, dtype=np.float32)\n",
    "IQ = IQ_interleaved[::2] + 1j*IQ_interleaved[1::2]\n",
    "\n",
    "audio = broadcast_fm_rx(IQ)\n",
    "Audio(audio, rate=48000)"
   ]
  }
 ],
 "metadata": {
  "kernelspec": {
   "display_name": "Python 3",
   "language": "python",
   "name": "python3"
  },
  "language_info": {
   "codemirror_mode": {
    "name": "ipython",
    "version": 3
   },
   "file_extension": ".py",
   "mimetype": "text/x-python",
   "name": "python",
   "nbconvert_exporter": "python",
   "pygments_lexer": "ipython3",
   "version": "3.8.10"
  }
 },
 "nbformat": 4,
 "nbformat_minor": 2
}
